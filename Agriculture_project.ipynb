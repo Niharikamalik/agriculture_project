{
  "nbformat": 4,
  "nbformat_minor": 0,
  "metadata": {
    "colab": {
      "provenance": []
    },
    "kernelspec": {
      "name": "python3",
      "display_name": "Python 3"
    },
    "language_info": {
      "name": "python"
    }
  },
  "cells": [
    {
      "cell_type": "code",
      "source": [
        "import tensorflow as tf"
      ],
      "metadata": {
        "id": "OTtM4pvMpkJk"
      },
      "execution_count": 90,
      "outputs": []
    },
    {
      "cell_type": "code",
      "source": [
        "feature_cols = [\n",
        "     tf.feature_column.numeric_column(\"area\"),\n",
        "     tf.feature_column.categorical_column_with_vocabulary_list(\"type\",[\"rural\",\"urban\"])\n",
        "]"
      ],
      "metadata": {
        "id": "jykXUNKCoAfZ"
      },
      "execution_count": 98,
      "outputs": []
    },
    {
      "cell_type": "code",
      "source": [
        "def train_input_fn():\n",
        "  features = {\n",
        "      \"area\": [10000,15000,20000,8000,14000,6000],\n",
        "      \"type\": [\"rural\",\"urban\",\"rural\",\"rural\",\"urban\",\"urban\"]\n",
        "  }\n",
        "  labels = [10000,60000,220000,90000,500000,300000]\n",
        "  return features,labels"
      ],
      "metadata": {
        "id": "WS9zQGk5oV00"
      },
      "execution_count": 100,
      "outputs": []
    },
    {
      "cell_type": "code",
      "source": [
        "model = tf.estimator.LinearRegressor(feature_cols)"
      ],
      "metadata": {
        "colab": {
          "base_uri": "https://localhost:8080/"
        },
        "id": "IdxU-sqGtUtf",
        "outputId": "48922034-21da-4ed0-868a-96213b777db5"
      },
      "execution_count": 101,
      "outputs": [
        {
          "output_type": "stream",
          "name": "stderr",
          "text": [
            "WARNING:tensorflow:Using temporary folder as model directory: /tmp/tmpaq2puql1\n"
          ]
        }
      ]
    },
    {
      "cell_type": "markdown",
      "source": [
        "model.train(train_input_fn,steps=200 )"
      ],
      "metadata": {
        "id": "6KBQoDlou1yj"
      }
    },
    {
      "cell_type": "code",
      "source": [
        "model.train(train_input_fn,steps=200 )"
      ],
      "metadata": {
        "id": "yJSy8bnAx6Fe"
      },
      "execution_count": null,
      "outputs": []
    },
    {
      "cell_type": "code",
      "source": [
        "def predict_input_fn():\n",
        "  features = {\"area\": [10000,15000],\n",
        "             \"type\":[\"rural\",\"urban\"]}\n",
        "  return features           "
      ],
      "metadata": {
        "id": "xi7MNEATvJvd"
      },
      "execution_count": 103,
      "outputs": []
    },
    {
      "cell_type": "code",
      "source": [
        "predictions = model.predict(predict_input_fn)"
      ],
      "metadata": {
        "id": "VxfPRSobv1XL"
      },
      "execution_count": 104,
      "outputs": []
    },
    {
      "cell_type": "code",
      "source": [
        "print(next(predictions))"
      ],
      "metadata": {
        "colab": {
          "base_uri": "https://localhost:8080/"
        },
        "id": "hIdKyoohwBpq",
        "outputId": "159a0aff-e8d9-4ac4-b59d-7e513a5fe363"
      },
      "execution_count": 105,
      "outputs": [
        {
          "output_type": "stream",
          "name": "stderr",
          "text": [
            "WARNING:tensorflow:Input graph does not use tf.data.Dataset or contain a QueueRunner. That means predict yields forever. This is probably a mistake.\n"
          ]
        },
        {
          "output_type": "stream",
          "name": "stdout",
          "text": [
            "{'predictions': array([49746.773], dtype=float32)}\n"
          ]
        }
      ]
    },
    {
      "cell_type": "code",
      "source": [
        "print(next(predictions))"
      ],
      "metadata": {
        "colab": {
          "base_uri": "https://localhost:8080/"
        },
        "id": "T9qi0zQQxHT6",
        "outputId": "80f4bf64-304e-4b19-b663-a4198089f5fd"
      },
      "execution_count": 106,
      "outputs": [
        {
          "output_type": "stream",
          "name": "stdout",
          "text": [
            "{'predictions': array([74615.97], dtype=float32)}\n"
          ]
        }
      ]
    },
    {
      "cell_type": "code",
      "source": [],
      "metadata": {
        "id": "KH-XkdLxyUod"
      },
      "execution_count": null,
      "outputs": []
    }
  ]
}